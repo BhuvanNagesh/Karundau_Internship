{
 "cells": [
  {
   "cell_type": "code",
   "execution_count": 33,
   "id": "b243192b-5584-47ec-8bfb-4758e6ad0d91",
   "metadata": {},
   "outputs": [],
   "source": [
    "import pandas as pd \n",
    "import matplotlib.pyplot as plt\n",
    "import sklearn\n",
    "from sklearn.model_selection import train_test_split\n",
    "import numpy as np"
   ]
  },
  {
   "cell_type": "code",
   "execution_count": 34,
   "id": "915f4469-3456-4284-b06c-06101147e6d3",
   "metadata": {},
   "outputs": [],
   "source": [
    "path = \"D:\\\\Data\\\\Bhuvan Nagesh\\\\Internshp\\\\ML\\\\ML\\\\Data\\\\titanicsurvival.csv\"\n",
    "data = pd.read_csv(path)"
   ]
  },
  {
   "cell_type": "code",
   "execution_count": 35,
   "id": "c6788c92-478e-4615-8b27-1f8e62175254",
   "metadata": {},
   "outputs": [
    {
     "name": "stdout",
     "output_type": "stream",
     "text": [
      "     Pclass     Sex   Age     Fare  Survived\n",
      "0         3    male  22.0   7.2500         0\n",
      "1         1  female  38.0  71.2833         1\n",
      "2         3  female  26.0   7.9250         1\n",
      "3         1  female  35.0  53.1000         1\n",
      "4         3    male  35.0   8.0500         0\n",
      "..      ...     ...   ...      ...       ...\n",
      "886       2    male  27.0  13.0000         0\n",
      "887       1  female  19.0  30.0000         1\n",
      "888       3  female   NaN  23.4500         0\n",
      "889       1    male  26.0  30.0000         1\n",
      "890       3    male  32.0   7.7500         0\n",
      "\n",
      "[891 rows x 5 columns]\n",
      "<class 'pandas.core.frame.DataFrame'>\n",
      "RangeIndex: 891 entries, 0 to 890\n",
      "Data columns (total 5 columns):\n",
      " #   Column    Non-Null Count  Dtype  \n",
      "---  ------    --------------  -----  \n",
      " 0   Pclass    891 non-null    int64  \n",
      " 1   Sex       891 non-null    object \n",
      " 2   Age       714 non-null    float64\n",
      " 3   Fare      891 non-null    float64\n",
      " 4   Survived  891 non-null    int64  \n",
      "dtypes: float64(2), int64(2), object(1)\n",
      "memory usage: 34.9+ KB\n",
      "None\n",
      "Pclass        0\n",
      "Sex           0\n",
      "Age         177\n",
      "Fare          0\n",
      "Survived      0\n",
      "dtype: int64\n"
     ]
    }
   ],
   "source": [
    "print(data)\n",
    "print(data.info())\n",
    "print(data.isnull().sum())"
   ]
  },
  {
   "cell_type": "code",
   "execution_count": 36,
   "id": "f2cb05fc-5a3c-47b7-a49e-c117b583ddda",
   "metadata": {},
   "outputs": [],
   "source": [
    "data['Sex']=data['Sex'].map({'male':1,'female':0})"
   ]
  },
  {
   "cell_type": "code",
   "execution_count": 37,
   "id": "1dcd9ab8-593b-4a44-b4fb-574465a0dd1e",
   "metadata": {},
   "outputs": [
    {
     "name": "stdout",
     "output_type": "stream",
     "text": [
      "28.0\n"
     ]
    }
   ],
   "source": [
    "medianvalue = data.Age.median()\n",
    "print(medianvalue)\n",
    "data.Age = data.Age.fillna(medianvalue)"
   ]
  },
  {
   "cell_type": "code",
   "execution_count": 38,
   "id": "673a26e3-d872-4e3c-b209-71acfb09d471",
   "metadata": {},
   "outputs": [
    {
     "name": "stdout",
     "output_type": "stream",
     "text": [
      "<class 'pandas.core.frame.DataFrame'>\n",
      "RangeIndex: 891 entries, 0 to 890\n",
      "Data columns (total 5 columns):\n",
      " #   Column    Non-Null Count  Dtype  \n",
      "---  ------    --------------  -----  \n",
      " 0   Pclass    891 non-null    int64  \n",
      " 1   Sex       891 non-null    int64  \n",
      " 2   Age       891 non-null    float64\n",
      " 3   Fare      891 non-null    float64\n",
      " 4   Survived  891 non-null    int64  \n",
      "dtypes: float64(2), int64(3)\n",
      "memory usage: 34.9 KB\n",
      "None\n"
     ]
    }
   ],
   "source": [
    "print(data.info()) # getting data information"
   ]
  },
  {
   "cell_type": "code",
   "execution_count": 39,
   "id": "01563ac4-d3f8-47d8-9889-5f8d404f6c4f",
   "metadata": {},
   "outputs": [],
   "source": [
    "inputs = data.drop(['Survived'],axis=1)\n",
    "output = data.drop(['Pclass','Sex','Age','Fare'],axis=1)"
   ]
  },
  {
   "cell_type": "code",
   "execution_count": 40,
   "id": "f1334cb6-120b-451a-b670-124872b6b3eb",
   "metadata": {},
   "outputs": [
    {
     "name": "stdout",
     "output_type": "stream",
     "text": [
      "     Pclass  Sex   Age     Fare\n",
      "0         3    1  22.0   7.2500\n",
      "1         1    0  38.0  71.2833\n",
      "2         3    0  26.0   7.9250\n",
      "3         1    0  35.0  53.1000\n",
      "4         3    1  35.0   8.0500\n",
      "..      ...  ...   ...      ...\n",
      "886       2    1  27.0  13.0000\n",
      "887       1    0  19.0  30.0000\n",
      "888       3    0  28.0  23.4500\n",
      "889       1    1  26.0  30.0000\n",
      "890       3    1  32.0   7.7500\n",
      "\n",
      "[891 rows x 4 columns]\n",
      "     Survived\n",
      "0           0\n",
      "1           1\n",
      "2           1\n",
      "3           1\n",
      "4           0\n",
      "..        ...\n",
      "886         0\n",
      "887         1\n",
      "888         0\n",
      "889         1\n",
      "890         0\n",
      "\n",
      "[891 rows x 1 columns]\n"
     ]
    }
   ],
   "source": [
    "print(inputs)\n",
    "print(output)"
   ]
  },
  {
   "cell_type": "code",
   "execution_count": 41,
   "id": "301b2323-463e-48e9-9646-2359db05a2b0",
   "metadata": {},
   "outputs": [],
   "source": [
    "x_train, x_test, y_train, y_test = train_test_split(inputs, output, train_size=0.8)"
   ]
  },
  {
   "cell_type": "code",
   "execution_count": 42,
   "id": "9c9bbc69-ec71-4372-82b4-6d739710b30e",
   "metadata": {},
   "outputs": [
    {
     "name": "stderr",
     "output_type": "stream",
     "text": [
      "C:\\ProgramData\\anaconda3\\Lib\\site-packages\\sklearn\\utils\\validation.py:1339: DataConversionWarning: A column-vector y was passed when a 1d array was expected. Please change the shape of y to (n_samples, ), for example using ravel().\n",
      "  y = column_or_1d(y, warn=True)\n"
     ]
    }
   ],
   "source": [
    "from sklearn.naive_bayes import GaussianNB\n",
    "model=GaussianNB()\n",
    "model.fit(x_train,y_train)\n",
    "y_pred=model.predict(x_test)"
   ]
  },
  {
   "cell_type": "code",
   "execution_count": 43,
   "id": "9e8ce413-c188-479f-b4dc-550d0b8d81c6",
   "metadata": {},
   "outputs": [
    {
     "name": "stdout",
     "output_type": "stream",
     "text": [
      "[1 0 0 1 0 0 0 0 0 0 0 1 1 1 0 0 0 0 0 0 0 0 0 0 1 0 1 1 0 0 1 1 0 0 1 0 0\n",
      " 0 0 1 0 0 0 0 0 0 0 1 1 0 1 1 0 1 0 0 1 0 0 1 0 1 1 1 0 0 0 0 1 1 1 0 0 0\n",
      " 1 1 0 1 1 0 0 1 1 0 1 1 0 0 1 0 0 0 0 0 0 1 1 1 0 1 1 0 0 0 0 0 1 1 0 1 1\n",
      " 1 1 0 1 1 1 0 1 0 1 0 0 1 0 0 0 1 1 0 0 0 1 1 1 0 0 1 0 1 1 1 0 0 1 0 0 0\n",
      " 1 0 1 1 0 1 0 0 1 0 1 0 1 0 0 0 0 0 1 1 0 1 1 1 0 1 0 1 0 1 1]\n",
      "     Survived\n",
      "797         1\n",
      "343         0\n",
      "686         0\n",
      "47          1\n",
      "838         1\n",
      "..        ...\n",
      "629         0\n",
      "329         1\n",
      "295         0\n",
      "657         0\n",
      "268         1\n",
      "\n",
      "[179 rows x 1 columns]\n"
     ]
    }
   ],
   "source": [
    "print(y_pred)\n",
    "print(y_test)"
   ]
  },
  {
   "cell_type": "code",
   "execution_count": 44,
   "id": "ae908560-a04a-452e-acf9-9ed0b8c1357f",
   "metadata": {},
   "outputs": [
    {
     "name": "stdout",
     "output_type": "stream",
     "text": [
      "[[86 24]\n",
      " [16 53]]\n",
      "0.776536312849162\n"
     ]
    }
   ],
   "source": [
    "from sklearn.metrics import confusion_matrix\n",
    "cm=confusion_matrix(y_test,y_pred)\n",
    "print(cm)\n",
    "from sklearn.metrics import accuracy_score\n",
    "result=accuracy_score(y_test,y_pred)\n",
    "print(result)"
   ]
  },
  {
   "cell_type": "code",
   "execution_count": null,
   "id": "c3effa7f-cc44-435f-9c82-bfaeda26ca4f",
   "metadata": {},
   "outputs": [],
   "source": []
  }
 ],
 "metadata": {
  "kernelspec": {
   "display_name": "Python 3 (ipykernel)",
   "language": "python",
   "name": "python3"
  },
  "language_info": {
   "codemirror_mode": {
    "name": "ipython",
    "version": 3
   },
   "file_extension": ".py",
   "mimetype": "text/x-python",
   "name": "python",
   "nbconvert_exporter": "python",
   "pygments_lexer": "ipython3",
   "version": "3.12.7"
  }
 },
 "nbformat": 4,
 "nbformat_minor": 5
}
